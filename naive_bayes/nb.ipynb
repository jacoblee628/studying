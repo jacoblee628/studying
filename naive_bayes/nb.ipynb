{
    "cells": [
        {
            "cell_type": "markdown",
            "source": [
                "Given $\\mathbf{x} = (x_1, ..., x_n)$, an observation with $n$ features, and labels $C_1, ... C_K$\r\n",
                "\r\n",
                "$$\r\n",
                "p(C_k | \\mathbf{x}) = \\frac{p(C_k) p(\\mathbf{x} | C_k)}{p(\\mathbf{x})}\r\n",
                "$$\r\n",
                "$$\r\n",
                "\\text{posterior} = \\frac{\\text{prior} \\times \\text{likelihood}}{\\text{evidence}} \r\n",
                "$$\r\n",
                "\r\n",
                "In other words, we're interested in the probability that the observation belongs to a certain class.\r\n",
                "\r\n",
                "\"In practice, there is interest only in the numerator of that fraction, because the denominator does not depend on $C$ and the values of the features $x_{i}$ are given, so that the denominator is effectively constant.\"\r\n",
                "\r\n",
                "But the numerator is equivalent to a joint probability model:\r\n",
                "\r\n",
                "$$\r\n",
                "p(C_k, x_1, ..., x_n)\r\n",
                "$$\r\n",
                "\r\n",
                "which we expand using the probability chain rule:\r\n",
                "\r\n",
                "$$\r\n",
                "\\begin{align}\r\n",
                "    p(C_k, x_1, ..., x_n) &= p(x_1, ..., x_n, C_k) \\\\\r\n",
                "                          &= p(x_1 | x_2, ..., x_n, C_k) p(x_2, ..., x_n, C_k) \\\\\r\n",
                "                          &= ... \\\\\r\n",
                "                          &= p(x_1 | x_2, ..., x_n, C_k) p(x_2 | x_3 , ..., x_n, C_k) ... p(x_{n-1} | x_n, C_k) p(x_n | C_k) p(C_k)\r\n",
                "\\end{align}\r\n",
                "$$\r\n",
                "\r\n",
                "This essentially multiplies the probability of each feature given the probability of the class.\r\n",
                "\r\n",
                "The \"naive\" part is that we assume each of the features are mutually independent.\r\n",
                "\r\n",
                "This is just the model; the classifier itself simply takes the argmax of all the possible classes.\r\n",
                "$$\r\n",
                "\\hat{y} = \\argmax_{k \\in {1, ..., K}}{p(C_k) \\prod_{i=1}^{n}{p(x_i | C_k)}}\r\n",
                "$$\r\n",
                "\r\n",
                "Technically, we're supposed to multiply this by a scaling factor $\\frac{1}{Z}$, where $Z$ is the probability of the feature vector $\\mathbf{x}$. But since we're taking the $\\argmax$ anyway, we just omit it. "
            ],
            "metadata": {}
        },
        {
            "cell_type": "code",
            "execution_count": 2,
            "source": [
                "import numpy as np\r\n",
                "import pandas as pd"
            ],
            "outputs": [],
            "metadata": {}
        },
        {
            "cell_type": "markdown",
            "source": [
                "# Binary example"
            ],
            "metadata": {}
        },
        {
            "cell_type": "code",
            "execution_count": 15,
            "source": [
                "car_example = [\r\n",
                "    (\"Red\", \"Sports\", \"Domestic\", \"Yes\"),\r\n",
                "    (\"Red\", \"Sports\", \"Domestic\", \"No\"),\r\n",
                "    (\"Red\", \"Sports\", \"Domestic\", \"Yes\"),\r\n",
                "    (\"Yellow\", \"Sports\", \"Domestic\", \"No\"),\r\n",
                "    (\"Yellow\", \"Sports\", \"Imported\", \"Yes\"),\r\n",
                "    (\"Yellow\", \"SUV\", \"Imported\", \"No\"),\r\n",
                "    (\"Yellow\", \"SUV\", \"Imported\", \"Yes\"),\r\n",
                "    (\"Yellow\", \"SUV\", \"Domestic\", \"No\"),\r\n",
                "    (\"Red\", \"SUV\", \"Imported\", \"No\"),\r\n",
                "    (\"Red\", \"Sports\", \"Imported\", \"Yes\"),\r\n",
                "]\r\n",
                "\r\n",
                "df = pd.DataFrame(car_example, columns=[\"Color\", \"Type\", \"Origin\", \"Stolen\"])\r\n",
                "df"
            ],
            "outputs": [
                {
                    "output_type": "execute_result",
                    "data": {
                        "text/plain": [
                            "    Color    Type    Origin Stolen\n",
                            "0     Red  Sports  Domestic    Yes\n",
                            "1     Red  Sports  Domestic     No\n",
                            "2     Red  Sports  Domestic    Yes\n",
                            "3  Yellow  Sports  Domestic     No\n",
                            "4  Yellow  Sports  Imported    Yes\n",
                            "5  Yellow     SUV  Imported     No\n",
                            "6  Yellow     SUV  Imported    Yes\n",
                            "7  Yellow     SUV  Domestic     No\n",
                            "8     Red     SUV  Imported     No\n",
                            "9     Red  Sports  Imported    Yes"
                        ],
                        "text/html": [
                            "<div>\n",
                            "<style scoped>\n",
                            "    .dataframe tbody tr th:only-of-type {\n",
                            "        vertical-align: middle;\n",
                            "    }\n",
                            "\n",
                            "    .dataframe tbody tr th {\n",
                            "        vertical-align: top;\n",
                            "    }\n",
                            "\n",
                            "    .dataframe thead th {\n",
                            "        text-align: right;\n",
                            "    }\n",
                            "</style>\n",
                            "<table border=\"1\" class=\"dataframe\">\n",
                            "  <thead>\n",
                            "    <tr style=\"text-align: right;\">\n",
                            "      <th></th>\n",
                            "      <th>Color</th>\n",
                            "      <th>Type</th>\n",
                            "      <th>Origin</th>\n",
                            "      <th>Stolen</th>\n",
                            "    </tr>\n",
                            "  </thead>\n",
                            "  <tbody>\n",
                            "    <tr>\n",
                            "      <th>0</th>\n",
                            "      <td>Red</td>\n",
                            "      <td>Sports</td>\n",
                            "      <td>Domestic</td>\n",
                            "      <td>Yes</td>\n",
                            "    </tr>\n",
                            "    <tr>\n",
                            "      <th>1</th>\n",
                            "      <td>Red</td>\n",
                            "      <td>Sports</td>\n",
                            "      <td>Domestic</td>\n",
                            "      <td>No</td>\n",
                            "    </tr>\n",
                            "    <tr>\n",
                            "      <th>2</th>\n",
                            "      <td>Red</td>\n",
                            "      <td>Sports</td>\n",
                            "      <td>Domestic</td>\n",
                            "      <td>Yes</td>\n",
                            "    </tr>\n",
                            "    <tr>\n",
                            "      <th>3</th>\n",
                            "      <td>Yellow</td>\n",
                            "      <td>Sports</td>\n",
                            "      <td>Domestic</td>\n",
                            "      <td>No</td>\n",
                            "    </tr>\n",
                            "    <tr>\n",
                            "      <th>4</th>\n",
                            "      <td>Yellow</td>\n",
                            "      <td>Sports</td>\n",
                            "      <td>Imported</td>\n",
                            "      <td>Yes</td>\n",
                            "    </tr>\n",
                            "    <tr>\n",
                            "      <th>5</th>\n",
                            "      <td>Yellow</td>\n",
                            "      <td>SUV</td>\n",
                            "      <td>Imported</td>\n",
                            "      <td>No</td>\n",
                            "    </tr>\n",
                            "    <tr>\n",
                            "      <th>6</th>\n",
                            "      <td>Yellow</td>\n",
                            "      <td>SUV</td>\n",
                            "      <td>Imported</td>\n",
                            "      <td>Yes</td>\n",
                            "    </tr>\n",
                            "    <tr>\n",
                            "      <th>7</th>\n",
                            "      <td>Yellow</td>\n",
                            "      <td>SUV</td>\n",
                            "      <td>Domestic</td>\n",
                            "      <td>No</td>\n",
                            "    </tr>\n",
                            "    <tr>\n",
                            "      <th>8</th>\n",
                            "      <td>Red</td>\n",
                            "      <td>SUV</td>\n",
                            "      <td>Imported</td>\n",
                            "      <td>No</td>\n",
                            "    </tr>\n",
                            "    <tr>\n",
                            "      <th>9</th>\n",
                            "      <td>Red</td>\n",
                            "      <td>Sports</td>\n",
                            "      <td>Imported</td>\n",
                            "      <td>Yes</td>\n",
                            "    </tr>\n",
                            "  </tbody>\n",
                            "</table>\n",
                            "</div>"
                        ]
                    },
                    "metadata": {},
                    "execution_count": 15
                }
            ],
            "metadata": {}
        },
        {
            "cell_type": "code",
            "execution_count": 16,
            "source": [
                "# map dataset to integers\r\n",
                "color_map = {\"Red\":0, \"Yellow\":1}\r\n",
                "type_map = {\"Sports\":0, \"SUV\":1}\r\n",
                "origin_map = {\"Domestic\":0, \"Imported\":1}\r\n",
                "# stolen_map = {\"No\":0, \"Yes\":1}"
            ],
            "outputs": [],
            "metadata": {}
        },
        {
            "cell_type": "code",
            "execution_count": 17,
            "source": [
                "df.Color = df.Color.apply(lambda x: color_map[x])\r\n",
                "df.Type = df.Type.apply(lambda x: type_map[x])\r\n",
                "df.Origin = df.Origin.apply(lambda x: origin_map[x])\r\n",
                "# df.Stolen = df.Stolen.apply(lambda x: stolen_map[x])"
            ],
            "outputs": [],
            "metadata": {}
        },
        {
            "cell_type": "code",
            "execution_count": 18,
            "source": [
                "df"
            ],
            "outputs": [
                {
                    "output_type": "execute_result",
                    "data": {
                        "text/plain": [
                            "   Color  Type  Origin Stolen\n",
                            "0      0     0       0    Yes\n",
                            "1      0     0       0     No\n",
                            "2      0     0       0    Yes\n",
                            "3      1     0       0     No\n",
                            "4      1     0       1    Yes\n",
                            "5      1     1       1     No\n",
                            "6      1     1       1    Yes\n",
                            "7      1     1       0     No\n",
                            "8      0     1       1     No\n",
                            "9      0     0       1    Yes"
                        ],
                        "text/html": [
                            "<div>\n",
                            "<style scoped>\n",
                            "    .dataframe tbody tr th:only-of-type {\n",
                            "        vertical-align: middle;\n",
                            "    }\n",
                            "\n",
                            "    .dataframe tbody tr th {\n",
                            "        vertical-align: top;\n",
                            "    }\n",
                            "\n",
                            "    .dataframe thead th {\n",
                            "        text-align: right;\n",
                            "    }\n",
                            "</style>\n",
                            "<table border=\"1\" class=\"dataframe\">\n",
                            "  <thead>\n",
                            "    <tr style=\"text-align: right;\">\n",
                            "      <th></th>\n",
                            "      <th>Color</th>\n",
                            "      <th>Type</th>\n",
                            "      <th>Origin</th>\n",
                            "      <th>Stolen</th>\n",
                            "    </tr>\n",
                            "  </thead>\n",
                            "  <tbody>\n",
                            "    <tr>\n",
                            "      <th>0</th>\n",
                            "      <td>0</td>\n",
                            "      <td>0</td>\n",
                            "      <td>0</td>\n",
                            "      <td>Yes</td>\n",
                            "    </tr>\n",
                            "    <tr>\n",
                            "      <th>1</th>\n",
                            "      <td>0</td>\n",
                            "      <td>0</td>\n",
                            "      <td>0</td>\n",
                            "      <td>No</td>\n",
                            "    </tr>\n",
                            "    <tr>\n",
                            "      <th>2</th>\n",
                            "      <td>0</td>\n",
                            "      <td>0</td>\n",
                            "      <td>0</td>\n",
                            "      <td>Yes</td>\n",
                            "    </tr>\n",
                            "    <tr>\n",
                            "      <th>3</th>\n",
                            "      <td>1</td>\n",
                            "      <td>0</td>\n",
                            "      <td>0</td>\n",
                            "      <td>No</td>\n",
                            "    </tr>\n",
                            "    <tr>\n",
                            "      <th>4</th>\n",
                            "      <td>1</td>\n",
                            "      <td>0</td>\n",
                            "      <td>1</td>\n",
                            "      <td>Yes</td>\n",
                            "    </tr>\n",
                            "    <tr>\n",
                            "      <th>5</th>\n",
                            "      <td>1</td>\n",
                            "      <td>1</td>\n",
                            "      <td>1</td>\n",
                            "      <td>No</td>\n",
                            "    </tr>\n",
                            "    <tr>\n",
                            "      <th>6</th>\n",
                            "      <td>1</td>\n",
                            "      <td>1</td>\n",
                            "      <td>1</td>\n",
                            "      <td>Yes</td>\n",
                            "    </tr>\n",
                            "    <tr>\n",
                            "      <th>7</th>\n",
                            "      <td>1</td>\n",
                            "      <td>1</td>\n",
                            "      <td>0</td>\n",
                            "      <td>No</td>\n",
                            "    </tr>\n",
                            "    <tr>\n",
                            "      <th>8</th>\n",
                            "      <td>0</td>\n",
                            "      <td>1</td>\n",
                            "      <td>1</td>\n",
                            "      <td>No</td>\n",
                            "    </tr>\n",
                            "    <tr>\n",
                            "      <th>9</th>\n",
                            "      <td>0</td>\n",
                            "      <td>0</td>\n",
                            "      <td>1</td>\n",
                            "      <td>Yes</td>\n",
                            "    </tr>\n",
                            "  </tbody>\n",
                            "</table>\n",
                            "</div>"
                        ]
                    },
                    "metadata": {},
                    "execution_count": 18
                }
            ],
            "metadata": {}
        },
        {
            "cell_type": "code",
            "execution_count": 14,
            "source": [
                "# task: classify whether a new observation (not present in dataset) is stolen\r\n",
                "# for example, a Red SUV Domestic\r\n",
                "obs = (color_map[\"Red\"], type_map[\"SUV\"], origin_map[\"Domestic\"])\r\n",
                "obs"
            ],
            "outputs": [
                {
                    "output_type": "execute_result",
                    "data": {
                        "text/plain": [
                            "(0, 1, 0)"
                        ]
                    },
                    "metadata": {},
                    "execution_count": 14
                }
            ],
            "metadata": {}
        },
        {
            "cell_type": "code",
            "execution_count": 20,
            "source": [
                "# for the training dataset, calculate the total observations in each class\r\n",
                "df.Stolen.value_counts() \r\n",
                "\r\n",
                "# count the number of times each class occurs per column\r\n",
                "df[df.Stolen == \"Yes\"].Color.value_counts()\r\n",
                "df[df.Stolen == \"No\"].Color.value_counts()\r\n",
                "df[df.Stolen == \"Yes\"].Type.value_counts()\r\n",
                "df[df.Stolen == \"No\"].Type.value_counts()\r\n",
                "df[df.Stolen == \"Yes\"].Type.value_counts()\r\n",
                "df[df.Stolen == \"No\"].Type.value_counts()"
            ],
            "outputs": [
                {
                    "output_type": "execute_result",
                    "data": {
                        "text/plain": [
                            "   Color  Type  Origin Stolen\n",
                            "0      0     0       0    Yes\n",
                            "2      0     0       0    Yes\n",
                            "4      1     0       1    Yes\n",
                            "6      1     1       1    Yes\n",
                            "9      0     0       1    Yes"
                        ],
                        "text/html": [
                            "<div>\n",
                            "<style scoped>\n",
                            "    .dataframe tbody tr th:only-of-type {\n",
                            "        vertical-align: middle;\n",
                            "    }\n",
                            "\n",
                            "    .dataframe tbody tr th {\n",
                            "        vertical-align: top;\n",
                            "    }\n",
                            "\n",
                            "    .dataframe thead th {\n",
                            "        text-align: right;\n",
                            "    }\n",
                            "</style>\n",
                            "<table border=\"1\" class=\"dataframe\">\n",
                            "  <thead>\n",
                            "    <tr style=\"text-align: right;\">\n",
                            "      <th></th>\n",
                            "      <th>Color</th>\n",
                            "      <th>Type</th>\n",
                            "      <th>Origin</th>\n",
                            "      <th>Stolen</th>\n",
                            "    </tr>\n",
                            "  </thead>\n",
                            "  <tbody>\n",
                            "    <tr>\n",
                            "      <th>0</th>\n",
                            "      <td>0</td>\n",
                            "      <td>0</td>\n",
                            "      <td>0</td>\n",
                            "      <td>Yes</td>\n",
                            "    </tr>\n",
                            "    <tr>\n",
                            "      <th>2</th>\n",
                            "      <td>0</td>\n",
                            "      <td>0</td>\n",
                            "      <td>0</td>\n",
                            "      <td>Yes</td>\n",
                            "    </tr>\n",
                            "    <tr>\n",
                            "      <th>4</th>\n",
                            "      <td>1</td>\n",
                            "      <td>0</td>\n",
                            "      <td>1</td>\n",
                            "      <td>Yes</td>\n",
                            "    </tr>\n",
                            "    <tr>\n",
                            "      <th>6</th>\n",
                            "      <td>1</td>\n",
                            "      <td>1</td>\n",
                            "      <td>1</td>\n",
                            "      <td>Yes</td>\n",
                            "    </tr>\n",
                            "    <tr>\n",
                            "      <th>9</th>\n",
                            "      <td>0</td>\n",
                            "      <td>0</td>\n",
                            "      <td>1</td>\n",
                            "      <td>Yes</td>\n",
                            "    </tr>\n",
                            "  </tbody>\n",
                            "</table>\n",
                            "</div>"
                        ]
                    },
                    "metadata": {},
                    "execution_count": 20
                }
            ],
            "metadata": {}
        },
        {
            "cell_type": "code",
            "execution_count": 25,
            "source": [
                "df.Stolen.value_counts()"
            ],
            "outputs": [
                {
                    "output_type": "execute_result",
                    "data": {
                        "text/plain": [
                            "Yes    5\n",
                            "No     5\n",
                            "Name: Stolen, dtype: int64"
                        ]
                    },
                    "metadata": {},
                    "execution_count": 25
                }
            ],
            "metadata": {}
        },
        {
            "cell_type": "markdown",
            "source": [
                "# Continuous example"
            ],
            "metadata": {}
        },
        {
            "cell_type": "markdown",
            "source": [
                "essentially instead of doing counts and division, calculate the mean and stdev for each column split by category. then calculate the probability by pluggin them into a gaussian"
            ],
            "metadata": {}
        }
    ],
    "metadata": {
        "orig_nbformat": 4,
        "language_info": {
            "name": "python",
            "version": "3.8.5",
            "mimetype": "text/x-python",
            "codemirror_mode": {
                "name": "ipython",
                "version": 3
            },
            "pygments_lexer": "ipython3",
            "nbconvert_exporter": "python",
            "file_extension": ".py"
        },
        "kernelspec": {
            "name": "python3",
            "display_name": "Python 3.8.5 64-bit (conda)"
        },
        "interpreter": {
            "hash": "80e249822db5758e05c7a95f2378bda83bb74a36814d9a884ba3a875cd74994c"
        }
    },
    "nbformat": 4,
    "nbformat_minor": 2
}